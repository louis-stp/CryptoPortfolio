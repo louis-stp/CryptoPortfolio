{
 "cells": [
  {
   "cell_type": "code",
   "execution_count": 1,
   "id": "a16e5d51",
   "metadata": {},
   "outputs": [],
   "source": [
    "import pandas as pd\n",
    "import numpy as np\n",
    "from datetime import datetime\n",
    "import matplotlib.pyplot as plt\n",
    "%matplotlib inline"
   ]
  },
  {
   "cell_type": "code",
   "execution_count": 2,
   "id": "9fbcd600-a996-47d9-9029-5703838659ae",
   "metadata": {},
   "outputs": [],
   "source": [
    "import ccxt"
   ]
  },
  {
   "cell_type": "code",
   "execution_count": null,
   "id": "25793329-7554-484a-8169-b41c48dce5d6",
   "metadata": {},
   "outputs": [],
   "source": []
  },
  {
   "cell_type": "code",
   "execution_count": 3,
   "id": "1f547366-34cb-4f8e-bda0-585f129b2cc2",
   "metadata": {},
   "outputs": [],
   "source": [
    "def load_crypto_batch(since,timeframe,symbols):\n",
    "    bnc = ccxt.binance()\n",
    "    dataframes = []\n",
    "    labels = []\n",
    "    for coin in symbols:\n",
    "        pair = \"\".join([coin,\"/USDT\"])\n",
    "        try:\n",
    "            dataframes.append(pd.DataFrame(bnc.fetch_ohlcv(pair,limit=1000,since=since,timeframe=timeframe),columns=[\"timestamp\",\"open\",\"high\",\"low\",\"close\",\"volume\"]).set_index(\"timestamp\"))\n",
    "            labels.append(str(coin))\n",
    "        except:\n",
    "            print(\"Binance does not have\", coin)\n",
    "    opens = pd.DataFrame(dataframes[0].open).rename(columns={'open':labels[0]})\n",
    "    Volumes = pd.DataFrame(dataframes[0].volume).rename(columns={'Volume':labels[0]})\n",
    "    for i,coin in enumerate(labels[1:]):\n",
    "        temp_opens = pd.DataFrame(dataframes[i+1].open).rename(columns={'open':coin})\n",
    "        temp_volumes = pd.DataFrame(dataframes[i+1].Volume).rename(columns={'Volume':coin})\n",
    "        opens = opens.merge(temp_opens,how='outer',on='timestamp')\n",
    "        Volumes = Volumes.merge(temp_volumes,how='outer',on='timestamp')\n",
    "    return (opens,Volumes)\n",
    "\n",
    "def load_crypto(days=1000,timeframe='1h',n=30):\n",
    "    bnc = ccxt.binance()\n",
    "    symbols = ['BTC']#,'ETH','BNB','SOL','ADA','XRP','DOT','DOGE','SHIB','LUNA','AVAX','UNI','LINK','LTC','MATIC','ALGO','BCH','VET','AXS','XLM','ATOM','ICP','FIL','THETA','TRX']\n",
    "    n = min(len(symbols),n)\n",
    "    symbols = symbols[:n]\n",
    "    since = bnc.milliseconds () - 86400000*days  # -1*days day from now\n",
    "    all_orders = []\n",
    "    all_volumes = []\n",
    "    while since <= (bnc.milliseconds()-2000*60*60):\n",
    "        limit = 1000  # change for your limit\n",
    "        orders,volumes = load_crypto_batch(since,timeframe,symbols)\n",
    "        since = int(orders.index[-1])\n",
    "        all_orders.append(orders)\n",
    "        all_volumes.append(volumes)\n",
    "        print(bnc.milliseconds()/1000,since/1000)\n",
    "    combined = pd.concat(all_orders)\n",
    "    combined_vols = pd.concat(all_volumes)\n",
    "    return combined,combined_vols\n",
    "    \n",
    "#gets a dataframe of prices, returns a dataframe of returns\n",
    "def get_returns(prices: object) -> object:\n",
    "    price_arr = np.asarray(prices)\n",
    "    time_arr = np.asarray(prices.index)\n",
    "    columns = np.asarray(prices.columns)\n",
    "    returns = np.zeros([len(time_arr)-1,len(columns)])\n",
    "    for i,val in enumerate(time_arr[1:]):\n",
    "        returns[i] = price_arr[i,:]/price_arr[i-1,:]\n",
    "    returns_df = pd.DataFrame(returns,index=time_arr[1:], columns=columns)\n",
    "    return pd.DataFrame(returns_df)\n",
    "\n",
    "#gets a dataframe of prices, returns a dataframe of the log returns\n",
    "def get_log_returns(prices: object) -> object:\n",
    "    price_arr = np.asarray(prices)\n",
    "    time_arr = np.asarray(prices.index)\n",
    "    columns = np.asarray(prices.columns)\n",
    "    log_returns = np.zeros([len(time_arr)-1,len(columns)])\n",
    "    for i,val in enumerate(time_arr[1:]):\n",
    "        log_returns[i] = np.log(price_arr[i,:]/price_arr[i-1,:])\n",
    "    log_returns_df = pd.DataFrame(returns,index=time_arr[1:], columns=columns)\n",
    "    return pd.DataFrame(log_returns_df)"
   ]
  },
  {
   "cell_type": "code",
   "execution_count": 29,
   "id": "05d6f4b7-73bc-4f5f-a0e6-0930318357d6",
   "metadata": {},
   "outputs": [],
   "source": [
    "BTC = pd.concat([volumes],axis=1).reset_index()\n",
    "BTC.dtypes\n",
    "BTC['timestamp'] = BTC['timestamp'].apply(lambda x: datetime.fromtimestamp(int(x/1000)))\n",
    "BTC = BTC.set_index(\"timestamp\").resample('D').sum()"
   ]
  },
  {
   "cell_type": "code",
   "execution_count": null,
   "id": "a95a9208-7fc0-4075-b1dc-277f81490050",
   "metadata": {},
   "outputs": [],
   "source": []
  },
  {
   "cell_type": "code",
   "execution_count": 6,
   "id": "b7a12204",
   "metadata": {},
   "outputs": [],
   "source": [
    "crypto_data = pd.read_csv(\"https://raw.githubusercontent.com/louis-stp/CryptoPortfolio/main/CryptoPrices\")\n",
    "crypto_data['timestamp'] = crypto_data['timestamp'].apply(lambda x: datetime.fromtimestamp(int(x/1000)))\n",
    "crypto_data.set_index(\"timestamp\", inplace=True)\n",
    "crypto_data = crypto_data.loc[:,crypto_data.columns[crypto_data.isna().sum(axis=0)<15000]]\n",
    "nona = crypto_data.dropna().pct_change()[1:]"
   ]
  },
  {
   "cell_type": "code",
   "execution_count": null,
   "id": "b74f04e8-1ac2-479a-b727-fddf3390ca03",
   "metadata": {},
   "outputs": [],
   "source": [
    "regressor = 'BTC'\n",
    "tickers = list(set(training.columns)-set([regressor]))"
   ]
  },
  {
   "cell_type": "code",
   "execution_count": null,
   "id": "f5cccddc-3889-43f2-903f-a081ca52131d",
   "metadata": {},
   "outputs": [],
   "source": [
    "X = np.array(nona[regressor]).reshape(-1,1)\n",
    "y = np.array(nona[tickers]).reshape(-1,len(tickers)) #second number is the number of stocks I think"
   ]
  },
  {
   "cell_type": "code",
   "execution_count": null,
   "id": "4b4ec641-8369-4c7f-ab1d-119e53fbd967",
   "metadata": {},
   "outputs": [],
   "source": [
    "#use all data as training data because we arn't predicting anything\n",
    "from sklearn.linear_model import LinearRegression\n",
    "lm = LinearRegression()"
   ]
  },
  {
   "cell_type": "code",
   "execution_count": null,
   "id": "7bd50e5d-cc06-417c-9386-d5acf7537515",
   "metadata": {},
   "outputs": [],
   "source": [
    "coins = {k: [] for k in tickers}\n",
    "for n in range(len(tickers)):\n",
    "    lm.fit(X,y[:,n])\n",
    "    coins[tickers[n]].append(lm.coef_[0])\n",
    "    coins[tickers[n]].append(lm.score(X,y[:,n]))\n",
    "    coins[tickers[n]].append(lm.intercept_)"
   ]
  },
  {
   "cell_type": "code",
   "execution_count": null,
   "id": "5e0e09ce-ebaf-4d92-8167-a05e61887f0c",
   "metadata": {},
   "outputs": [],
   "source": [
    "pd.DataFrame(coins, index = ['BTC Beta','R^2','Alpha']).T"
   ]
  },
  {
   "cell_type": "markdown",
   "id": "69438a9d-63b8-4cf2-a292-dda1de5ed085",
   "metadata": {},
   "source": [
    "form mean-variance optimized"
   ]
  },
  {
   "cell_type": "code",
   "execution_count": null,
   "id": "f7a1141e-ce37-48fb-9004-aba609ba429f",
   "metadata": {},
   "outputs": [],
   "source": [
    "#should really resample to daily data\n",
    "t = 12*30*24 #number to makes std and means equivelent to yearly returns so 12 for monthly, 52 for weekly and 252 for daily\n",
    "posLB = -.1  #lower bound on position exposure\n",
    "posUB = .5  #upper bound on position exposure\n",
    "\n",
    "muf = pd.Series(0)\n",
    "returns = training\n",
    "mean_vect = training.mean() * t"
   ]
  },
  {
   "cell_type": "code",
   "execution_count": null,
   "id": "c04d8db7-cc6c-4e85-aadf-4a67060a7347",
   "metadata": {},
   "outputs": [],
   "source": [
    "from scipy.optimize import linprog\n",
    "m = len(training.columns)\n",
    "#set equality constraints. I want my positions to sum to 1\n",
    "A_eq = np.array((1,)*m).reshape(1,-1)\n",
    "b_eq = [1]\n",
    "\n",
    "# set bounds on leverage. We can short but we can not go long\n",
    "bounds = np.vstack([(posLB,)*m,(posUB,)*m]).T"
   ]
  },
  {
   "cell_type": "code",
   "execution_count": null,
   "id": "659bac28-1120-4558-8ece-0494a06b3964",
   "metadata": {},
   "outputs": [],
   "source": [
    "table_min = linprog(c=mean_vect, A_eq = A_eq, b_eq = b_eq, bounds=bounds)\n",
    "min_rtn = mean_vect @ table_min.x\n",
    "table_max = linprog(c=-mean_vect, A_eq = A_eq, b_eq = b_eq, bounds=bounds)\n",
    "max_rtn = mean_vect @ table_max.x"
   ]
  },
  {
   "cell_type": "code",
   "execution_count": null,
   "id": "0b71cfe5-e96c-4763-979f-c18f217b296c",
   "metadata": {},
   "outputs": [],
   "source": [
    "from qpsolvers import solve_qp\n",
    "muP = np.arange(min_rtn * .995,max_rtn * .995, .001)\n",
    "sdP = np.zeros(len(muP))\n",
    "weights = np.zeros([len(muP),m])\n",
    "\n",
    "Cov = 2*np.array(returns.cov())\n",
    "q_vec = np.zeros(m).reshape(-1,)\n",
    "G = np.zeros([m,m])\n",
    "h = np.zeros(m)\n",
    "A = np.vstack([np.array((1,)*m).reshape(1,-1),mean_vect])"
   ]
  },
  {
   "cell_type": "code",
   "execution_count": null,
   "id": "81677cc2-684e-41ac-bb64-606cd3019fa4",
   "metadata": {},
   "outputs": [],
   "source": [
    "for i in range(len(muP)):\n",
    "    b = np.array([1,muP[i]])\n",
    "    weights[i] = solve_qp(P=Cov, q = q_vec, G=G, h=h, A=A, b=b, lb = bounds[:,0], ub = bounds[:,1])\n",
    "    sdP[i] = np.sqrt(weights[i] @ (Cov/2) @ weights[i]) * np.sqrt(t)"
   ]
  },
  {
   "cell_type": "code",
   "execution_count": null,
   "id": "95dd0454-45fe-4220-bcf4-319ab08a4b9b",
   "metadata": {},
   "outputs": [],
   "source": [
    "portfolios = pd.DataFrame({'Returns': muP, 'Volatility': sdP,})\n",
    "\n",
    "for counter, symbol in enumerate(tickers):\n",
    "    #print(counter, symbol)\n",
    "    portfolios[symbol+' weight'] = [w[counter] for w in weights]\n",
    "    \n",
    "portfolios['Sharpe'] = (portfolios['Returns']-muf.values) / portfolios['Volatility'] #note using monthly returns and vol"
   ]
  },
  {
   "cell_type": "code",
   "execution_count": null,
   "id": "106cd29a-879a-478a-8a78-935f19e7ef46",
   "metadata": {},
   "outputs": [],
   "source": [
    "tangent = portfolios.iloc[[portfolios.Sharpe.argmax()]]\n",
    "min_var = portfolios.iloc[[portfolios.Volatility.argmin()]]\n",
    "efficient_portfolios = portfolios[portfolios['Returns'] >= min_var.Returns.values[0]-.02] #the .02 is arbitrary to see a bit below the min var port too"
   ]
  },
  {
   "cell_type": "code",
   "execution_count": null,
   "id": "2c614b6b-d93a-41e8-a522-4b3f00bbcf49",
   "metadata": {},
   "outputs": [],
   "source": [
    "efficient_portfolios.plot.scatter(x='Volatility', y='Returns', marker='o', s=5, alpha=0.7, grid=True, figsize=[7,5], xlim = (0,2))\n",
    "plt.scatter(0,muf, marker = '.',s=500, c = 'k')\n",
    "plt.scatter(tangent.Volatility,tangent.Returns, marker = '.',s=300,c='g')\n",
    "x = np.arange(0,2,.01)\n",
    "plt.plot(x,tangent.Sharpe.values[0]*x+muf.values[0],c='m')"
   ]
  },
  {
   "cell_type": "code",
   "execution_count": null,
   "id": "0dc8d819-a742-485e-a77f-da164c1ca947",
   "metadata": {},
   "outputs": [],
   "source": [
    "#https://pyportfolioopt.readthedocs.io/en/latest/"
   ]
  },
  {
   "cell_type": "code",
   "execution_count": null,
   "id": "5ff55499-c9eb-4562-b91a-904bd44a575f",
   "metadata": {},
   "outputs": [],
   "source": []
  },
  {
   "cell_type": "code",
   "execution_count": null,
   "id": "62207cf4-1d25-4372-9a5d-c316b32f0a7d",
   "metadata": {},
   "outputs": [],
   "source": [
    "def correlation(dataset,SandP,day):\n",
    "    return dataset.loc[day[0]:day[1]].corr()[SandP][1:]\n",
    "days = training.resample('W-MON').mean().index\n",
    "corrs_mat = np.zeros([len(days),len(tickers)])\n",
    "for n in range(len(days)-1):\n",
    "    corrs_mat[n,:] = correlation(training,'BTC',days.astype(str)[n:n+2]).values\n",
    "pd.DataFrame(corrs_mat,index=days,columns = tickers).plot(figsize=[8,6])\n",
    "plt.legend(bbox_to_anchor=(1, 1))\n",
    "plt.show()"
   ]
  },
  {
   "cell_type": "markdown",
   "id": "05faa3c6-9513-4772-9289-679507e8917a",
   "metadata": {},
   "source": [
    "The real stuff"
   ]
  },
  {
   "cell_type": "code",
   "execution_count": 8,
   "id": "99be0831-6bd7-4a3a-b605-89b89429447c",
   "metadata": {},
   "outputs": [],
   "source": [
    "from pandas_datareader import data, wb\n",
    "#SPY_data = pd.read_csv(\"spy.xlsx\", encoding = 'unicode_escape')\n",
    "SPY_data = pd.read_excel(\"spy.xlsx\") \n",
    "SPY_vol = data.DataReader(['SPY'], 'yahoo', crypto_data.index[0], crypto_data.index[-1])[['Adj Close','Volume']].swaplevel(axis=1)['SPY']"
   ]
  },
  {
   "cell_type": "code",
   "execution_count": 9,
   "id": "e9908ada-882d-4b3f-a4ab-9cb6d5bb1213",
   "metadata": {},
   "outputs": [],
   "source": [
    "SPY_data = (SPY_data\n",
    " .rename(columns=SPY_data.iloc[2])\n",
    " .iloc[3:1000,:3]\n",
    " .set_index('Date')\n",
    " .drop('NAV',axis=1)\n",
    " .loc[\"04-Nov-2021\":\"11-Feb-2019\",:]\n",
    ")"
   ]
  },
  {
   "cell_type": "code",
   "execution_count": 10,
   "id": "1958b6c1-c596-47f1-ad85-2602153873d4",
   "metadata": {},
   "outputs": [],
   "source": [
    "SPY_data.index = SPY_vol.index"
   ]
  },
  {
   "cell_type": "code",
   "execution_count": 59,
   "id": "e493f6eb-dd6d-4d09-8c54-4d82cf18e73a",
   "metadata": {},
   "outputs": [],
   "source": [
    "SPY = (SPY_data\n",
    " .join(SPY_vol)\n",
    " .astype(float)\n",
    "      )\n",
    "SPY = (SPY\n",
    " .assign(vol_norm = SPY['Volume'] / SPY['Shares Outstanding'])\n",
    " .assign(SPYreturn = SPY[\"Adj Close\"].pct_change())\n",
    "\n",
    ")[1:]"
   ]
  },
  {
   "cell_type": "code",
   "execution_count": 63,
   "id": "b961a47b-d2ca-4247-b155-5be051d45f4d",
   "metadata": {},
   "outputs": [],
   "source": [
    "SPY = SPY.loc[:,:]"
   ]
  },
  {
   "cell_type": "code",
   "execution_count": 71,
   "id": "f6f41154-5061-4b29-8f1a-a82041beb15b",
   "metadata": {},
   "outputs": [
    {
     "data": {
      "text/html": [
       "<div>\n",
       "<style scoped>\n",
       "    .dataframe tbody tr th:only-of-type {\n",
       "        vertical-align: middle;\n",
       "    }\n",
       "\n",
       "    .dataframe tbody tr th {\n",
       "        vertical-align: top;\n",
       "    }\n",
       "\n",
       "    .dataframe thead th {\n",
       "        text-align: right;\n",
       "    }\n",
       "</style>\n",
       "<table border=\"1\" class=\"dataframe\">\n",
       "  <thead>\n",
       "    <tr style=\"text-align: right;\">\n",
       "      <th></th>\n",
       "      <th>Shares Outstanding</th>\n",
       "      <th>Adj Close</th>\n",
       "      <th>Volume</th>\n",
       "      <th>vol_norm</th>\n",
       "      <th>SPYreturn</th>\n",
       "    </tr>\n",
       "    <tr>\n",
       "      <th>Date</th>\n",
       "      <th></th>\n",
       "      <th></th>\n",
       "      <th></th>\n",
       "      <th></th>\n",
       "      <th></th>\n",
       "    </tr>\n",
       "  </thead>\n",
       "  <tbody>\n",
       "    <tr>\n",
       "      <th>2019-02-19</th>\n",
       "      <td>906232116.0</td>\n",
       "      <td>265.094238</td>\n",
       "      <td>59120800.0</td>\n",
       "      <td>0.065238</td>\n",
       "      <td>0.001731</td>\n",
       "    </tr>\n",
       "    <tr>\n",
       "      <th>2019-02-20</th>\n",
       "      <td>907032116.0</td>\n",
       "      <td>265.628540</td>\n",
       "      <td>76610800.0</td>\n",
       "      <td>0.084463</td>\n",
       "      <td>0.002016</td>\n",
       "    </tr>\n",
       "    <tr>\n",
       "      <th>2019-02-21</th>\n",
       "      <td>902332116.0</td>\n",
       "      <td>264.683960</td>\n",
       "      <td>64214700.0</td>\n",
       "      <td>0.071165</td>\n",
       "      <td>-0.003556</td>\n",
       "    </tr>\n",
       "    <tr>\n",
       "      <th>2019-02-22</th>\n",
       "      <td>898482116.0</td>\n",
       "      <td>266.325012</td>\n",
       "      <td>78114600.0</td>\n",
       "      <td>0.086941</td>\n",
       "      <td>0.006200</td>\n",
       "    </tr>\n",
       "    <tr>\n",
       "      <th>2019-02-25</th>\n",
       "      <td>903382116.0</td>\n",
       "      <td>266.687561</td>\n",
       "      <td>69030700.0</td>\n",
       "      <td>0.076414</td>\n",
       "      <td>0.001361</td>\n",
       "    </tr>\n",
       "    <tr>\n",
       "      <th>...</th>\n",
       "      <td>...</td>\n",
       "      <td>...</td>\n",
       "      <td>...</td>\n",
       "      <td>...</td>\n",
       "      <td>...</td>\n",
       "    </tr>\n",
       "    <tr>\n",
       "      <th>2021-10-29</th>\n",
       "      <td>926332116.0</td>\n",
       "      <td>459.250000</td>\n",
       "      <td>70108200.0</td>\n",
       "      <td>0.075684</td>\n",
       "      <td>0.002029</td>\n",
       "    </tr>\n",
       "    <tr>\n",
       "      <th>2021-11-01</th>\n",
       "      <td>934432116.0</td>\n",
       "      <td>460.040009</td>\n",
       "      <td>48433600.0</td>\n",
       "      <td>0.051832</td>\n",
       "      <td>0.001720</td>\n",
       "    </tr>\n",
       "    <tr>\n",
       "      <th>2021-11-02</th>\n",
       "      <td>933482116.0</td>\n",
       "      <td>461.899994</td>\n",
       "      <td>48908400.0</td>\n",
       "      <td>0.052394</td>\n",
       "      <td>0.004043</td>\n",
       "    </tr>\n",
       "    <tr>\n",
       "      <th>2021-11-03</th>\n",
       "      <td>930082116.0</td>\n",
       "      <td>464.720001</td>\n",
       "      <td>52509800.0</td>\n",
       "      <td>0.056457</td>\n",
       "      <td>0.006105</td>\n",
       "    </tr>\n",
       "    <tr>\n",
       "      <th>2021-11-04</th>\n",
       "      <td>926932116.0</td>\n",
       "      <td>466.910004</td>\n",
       "      <td>52847100.0</td>\n",
       "      <td>0.057013</td>\n",
       "      <td>0.004713</td>\n",
       "    </tr>\n",
       "  </tbody>\n",
       "</table>\n",
       "<p>686 rows × 5 columns</p>\n",
       "</div>"
      ],
      "text/plain": [
       "            Shares Outstanding   Adj Close      Volume  vol_norm  SPYreturn\n",
       "Date                                                                       \n",
       "2019-02-19         906232116.0  265.094238  59120800.0  0.065238   0.001731\n",
       "2019-02-20         907032116.0  265.628540  76610800.0  0.084463   0.002016\n",
       "2019-02-21         902332116.0  264.683960  64214700.0  0.071165  -0.003556\n",
       "2019-02-22         898482116.0  266.325012  78114600.0  0.086941   0.006200\n",
       "2019-02-25         903382116.0  266.687561  69030700.0  0.076414   0.001361\n",
       "...                        ...         ...         ...       ...        ...\n",
       "2021-10-29         926332116.0  459.250000  70108200.0  0.075684   0.002029\n",
       "2021-11-01         934432116.0  460.040009  48433600.0  0.051832   0.001720\n",
       "2021-11-02         933482116.0  461.899994  48908400.0  0.052394   0.004043\n",
       "2021-11-03         930082116.0  464.720001  52509800.0  0.056457   0.006105\n",
       "2021-11-04         926932116.0  466.910004  52847100.0  0.057013   0.004713\n",
       "\n",
       "[686 rows x 5 columns]"
      ]
     },
     "execution_count": 71,
     "metadata": {},
     "output_type": "execute_result"
    }
   ],
   "source": [
    "SPY"
   ]
  },
  {
   "cell_type": "code",
   "execution_count": 13,
   "id": "390d08d7-65be-4443-a2d8-656f807ed2b5",
   "metadata": {},
   "outputs": [
    {
     "data": {
      "text/plain": [
       "<AxesSubplot:xlabel='Date'>"
      ]
     },
     "execution_count": 13,
     "metadata": {},
     "output_type": "execute_result"
    },
    {
     "data": {
      "image/png": "[encoded data removed]",
      "text/plain": [
       "<Figure size 432x288 with 1 Axes>"
      ]
     },
     "metadata": {
      "needs_background": "light"
     },
     "output_type": "display_data"
    }
   ],
   "source": [
    "(SPY.SPYreturn.rolling(21).std()/SPY['vol_norm'].rolling(21).mean()).plot()"
   ]
  },
  {
   "cell_type": "code",
   "execution_count": null,
   "id": "d3b11b7e-65f9-41c1-9d90-740d2bb121dc",
   "metadata": {},
   "outputs": [],
   "source": [
    "#https://www.blockchain.com/charts/total-bitcoins\n",
    "#bitcoins supply increases approximately linearly"
   ]
  },
  {
   "cell_type": "code",
   "execution_count": null,
   "id": "01a9df83-5a58-4479-89c7-31c6eeddbb24",
   "metadata": {},
   "outputs": [],
   "source": [
    "#diff between two dates\n",
    "a = datetime.strptime(\"2019-02-18\", \"%Y-%m-%d\")\n",
    "b = datetime.strptime(\"2020-05-11\", \"%Y-%m-%d\")\n",
    "(b-a).days"
   ]
  },
  {
   "cell_type": "code",
   "execution_count": 30,
   "id": "0df0405d-3202-4b1e-90e2-15cbae0fca26",
   "metadata": {},
   "outputs": [],
   "source": [
    "def BTC_total_coins(x):\n",
    "    if x < 448:\n",
    "        return (18.375-17.545)*10**6/448 * x + (17.545 * 1 * 10 ** 6)\n",
    "    else:\n",
    "        return (18.773-18.375)*10**6/447 * (x-447) + (18.375 * 1 * 10 ** 6)\n",
    "    \n",
    "x = np.arange(990)\n",
    "y = []\n",
    "\n",
    "for i in x:\n",
    "    y.append(BTC_total_coins(i))"
   ]
  },
  {
   "cell_type": "code",
   "execution_count": 31,
   "id": "a4f27826-6486-4ff2-abb7-91d04a12f403",
   "metadata": {},
   "outputs": [],
   "source": [
    "BTC_usable = BTC.loc[\"2019-02-19\":\"2021-11-04\"]"
   ]
  },
  {
   "cell_type": "code",
   "execution_count": 32,
   "id": "9c069a7a-30c5-4328-b435-50d8487e2a7d",
   "metadata": {},
   "outputs": [],
   "source": [
    "y = pd.Series(y,index=BTC_usable.index)"
   ]
  },
  {
   "cell_type": "code",
   "execution_count": 33,
   "id": "157bd334-dd9a-43fe-b9d2-e65c26ddc54e",
   "metadata": {},
   "outputs": [
    {
     "name": "stderr",
     "output_type": "stream",
     "text": [
      "/opt/homebrew/Caskroom/miniforge/base/envs/tfenv/lib/python3.8/site-packages/pandas/core/frame.py:3607: SettingWithCopyWarning: \n",
      "A value is trying to be set on a copy of a slice from a DataFrame.\n",
      "Try using .loc[row_indexer,col_indexer] = value instead\n",
      "\n",
      "See the caveats in the documentation: https://pandas.pydata.org/pandas-docs/stable/user_guide/indexing.html#returning-a-view-versus-a-copy\n",
      "  self._set_item(key, value)\n"
     ]
    }
   ],
   "source": [
    "BTC_usable['coin_supply'] = y"
   ]
  },
  {
   "cell_type": "code",
   "execution_count": 34,
   "id": "5c599a15-da9e-4b85-8ef6-d164a6c87310",
   "metadata": {},
   "outputs": [],
   "source": [
    "BTC_usable['vol_norm'] = BTC_usable[\"volume\"]/BTC_usable[\"coin_supply\"]"
   ]
  },
  {
   "cell_type": "code",
   "execution_count": 35,
   "id": "75161146-790d-462e-a1bd-b4ae2551d500",
   "metadata": {},
   "outputs": [
    {
     "data": {
      "text/html": [
       "<div>\n",
       "<style scoped>\n",
       "    .dataframe tbody tr th:only-of-type {\n",
       "        vertical-align: middle;\n",
       "    }\n",
       "\n",
       "    .dataframe tbody tr th {\n",
       "        vertical-align: top;\n",
       "    }\n",
       "\n",
       "    .dataframe thead th {\n",
       "        text-align: right;\n",
       "    }\n",
       "</style>\n",
       "<table border=\"1\" class=\"dataframe\">\n",
       "  <thead>\n",
       "    <tr style=\"text-align: right;\">\n",
       "      <th></th>\n",
       "      <th>volume</th>\n",
       "      <th>coin_supply</th>\n",
       "      <th>vol_norm</th>\n",
       "    </tr>\n",
       "    <tr>\n",
       "      <th>timestamp</th>\n",
       "      <th></th>\n",
       "      <th></th>\n",
       "      <th></th>\n",
       "    </tr>\n",
       "  </thead>\n",
       "  <tbody>\n",
       "    <tr>\n",
       "      <th>2019-02-19</th>\n",
       "      <td>22312.446914</td>\n",
       "      <td>1.754500e+07</td>\n",
       "      <td>0.001272</td>\n",
       "    </tr>\n",
       "    <tr>\n",
       "      <th>2019-02-20</th>\n",
       "      <td>34469.665463</td>\n",
       "      <td>1.754685e+07</td>\n",
       "      <td>0.001964</td>\n",
       "    </tr>\n",
       "    <tr>\n",
       "      <th>2019-02-21</th>\n",
       "      <td>31390.659592</td>\n",
       "      <td>1.754871e+07</td>\n",
       "      <td>0.001789</td>\n",
       "    </tr>\n",
       "    <tr>\n",
       "      <th>2019-02-22</th>\n",
       "      <td>21907.760497</td>\n",
       "      <td>1.755056e+07</td>\n",
       "      <td>0.001248</td>\n",
       "    </tr>\n",
       "    <tr>\n",
       "      <th>2019-02-23</th>\n",
       "      <td>38232.879917</td>\n",
       "      <td>1.755241e+07</td>\n",
       "      <td>0.002178</td>\n",
       "    </tr>\n",
       "    <tr>\n",
       "      <th>...</th>\n",
       "      <td>...</td>\n",
       "      <td>...</td>\n",
       "      <td>...</td>\n",
       "    </tr>\n",
       "    <tr>\n",
       "      <th>2021-10-31</th>\n",
       "      <td>40817.013010</td>\n",
       "      <td>1.885402e+07</td>\n",
       "      <td>0.002165</td>\n",
       "    </tr>\n",
       "    <tr>\n",
       "      <th>2021-11-01</th>\n",
       "      <td>41701.329110</td>\n",
       "      <td>1.885491e+07</td>\n",
       "      <td>0.002212</td>\n",
       "    </tr>\n",
       "    <tr>\n",
       "      <th>2021-11-02</th>\n",
       "      <td>46006.735570</td>\n",
       "      <td>1.885581e+07</td>\n",
       "      <td>0.002440</td>\n",
       "    </tr>\n",
       "    <tr>\n",
       "      <th>2021-11-03</th>\n",
       "      <td>43096.393040</td>\n",
       "      <td>1.885670e+07</td>\n",
       "      <td>0.002285</td>\n",
       "    </tr>\n",
       "    <tr>\n",
       "      <th>2021-11-04</th>\n",
       "      <td>36134.497350</td>\n",
       "      <td>1.885759e+07</td>\n",
       "      <td>0.001916</td>\n",
       "    </tr>\n",
       "  </tbody>\n",
       "</table>\n",
       "<p>990 rows × 3 columns</p>\n",
       "</div>"
      ],
      "text/plain": [
       "                  volume   coin_supply  vol_norm\n",
       "timestamp                                       \n",
       "2019-02-19  22312.446914  1.754500e+07  0.001272\n",
       "2019-02-20  34469.665463  1.754685e+07  0.001964\n",
       "2019-02-21  31390.659592  1.754871e+07  0.001789\n",
       "2019-02-22  21907.760497  1.755056e+07  0.001248\n",
       "2019-02-23  38232.879917  1.755241e+07  0.002178\n",
       "...                  ...           ...       ...\n",
       "2021-10-31  40817.013010  1.885402e+07  0.002165\n",
       "2021-11-01  41701.329110  1.885491e+07  0.002212\n",
       "2021-11-02  46006.735570  1.885581e+07  0.002440\n",
       "2021-11-03  43096.393040  1.885670e+07  0.002285\n",
       "2021-11-04  36134.497350  1.885759e+07  0.001916\n",
       "\n",
       "[990 rows x 3 columns]"
      ]
     },
     "execution_count": 35,
     "metadata": {},
     "output_type": "execute_result"
    }
   ],
   "source": [
    "BTC_usable"
   ]
  },
  {
   "cell_type": "code",
   "execution_count": 36,
   "id": "02d85f7b-242a-40d9-8c17-05c54c7fa691",
   "metadata": {},
   "outputs": [],
   "source": [
    "BTC_price = pd.concat([prices],axis=1).reset_index()\n",
    "BTC_price['timestamp'] = BTC_price['timestamp'].apply(lambda x: datetime.fromtimestamp(int(x/1000)))\n",
    "BTC_price = BTC_price.set_index(\"timestamp\").resample('D').last()\n",
    "BTC_usable['Price'] = BTC_price"
   ]
  },
  {
   "cell_type": "code",
   "execution_count": 43,
   "id": "048b210c-39f7-46c5-ae69-79b6fc25c1d5",
   "metadata": {},
   "outputs": [
    {
     "name": "stderr",
     "output_type": "stream",
     "text": [
      "/opt/homebrew/Caskroom/miniforge/base/envs/tfenv/lib/python3.8/site-packages/pandas/core/frame.py:3607: SettingWithCopyWarning: \n",
      "A value is trying to be set on a copy of a slice from a DataFrame.\n",
      "Try using .loc[row_indexer,col_indexer] = value instead\n",
      "\n",
      "See the caveats in the documentation: https://pandas.pydata.org/pandas-docs/stable/user_guide/indexing.html#returning-a-view-versus-a-copy\n",
      "  self._set_item(key, value)\n"
     ]
    }
   ],
   "source": [
    "BTC_usable['BTC_returns'] = BTC_usable['Price'].pct_change()"
   ]
  },
  {
   "cell_type": "code",
   "execution_count": 44,
   "id": "3fe8fc42-9a2e-47a6-a1b6-09c0dcdb5bda",
   "metadata": {},
   "outputs": [
    {
     "data": {
      "text/html": [
       "<div>\n",
       "<style scoped>\n",
       "    .dataframe tbody tr th:only-of-type {\n",
       "        vertical-align: middle;\n",
       "    }\n",
       "\n",
       "    .dataframe tbody tr th {\n",
       "        vertical-align: top;\n",
       "    }\n",
       "\n",
       "    .dataframe thead th {\n",
       "        text-align: right;\n",
       "    }\n",
       "</style>\n",
       "<table border=\"1\" class=\"dataframe\">\n",
       "  <thead>\n",
       "    <tr style=\"text-align: right;\">\n",
       "      <th></th>\n",
       "      <th>volume</th>\n",
       "      <th>coin_supply</th>\n",
       "      <th>vol_norm</th>\n",
       "      <th>Price</th>\n",
       "      <th>BTC_returns</th>\n",
       "    </tr>\n",
       "    <tr>\n",
       "      <th>timestamp</th>\n",
       "      <th></th>\n",
       "      <th></th>\n",
       "      <th></th>\n",
       "      <th></th>\n",
       "      <th></th>\n",
       "    </tr>\n",
       "  </thead>\n",
       "  <tbody>\n",
       "    <tr>\n",
       "      <th>2019-02-19</th>\n",
       "      <td>22312.446914</td>\n",
       "      <td>1.754500e+07</td>\n",
       "      <td>0.001272</td>\n",
       "      <td>3912.11</td>\n",
       "      <td>NaN</td>\n",
       "    </tr>\n",
       "    <tr>\n",
       "      <th>2019-02-20</th>\n",
       "      <td>34469.665463</td>\n",
       "      <td>1.754685e+07</td>\n",
       "      <td>0.001964</td>\n",
       "      <td>3968.05</td>\n",
       "      <td>0.014299</td>\n",
       "    </tr>\n",
       "    <tr>\n",
       "      <th>2019-02-21</th>\n",
       "      <td>31390.659592</td>\n",
       "      <td>1.754871e+07</td>\n",
       "      <td>0.001789</td>\n",
       "      <td>3953.03</td>\n",
       "      <td>-0.003785</td>\n",
       "    </tr>\n",
       "    <tr>\n",
       "      <th>2019-02-22</th>\n",
       "      <td>21907.760497</td>\n",
       "      <td>1.755056e+07</td>\n",
       "      <td>0.001248</td>\n",
       "      <td>3969.80</td>\n",
       "      <td>0.004242</td>\n",
       "    </tr>\n",
       "    <tr>\n",
       "      <th>2019-02-23</th>\n",
       "      <td>38232.879917</td>\n",
       "      <td>1.755241e+07</td>\n",
       "      <td>0.002178</td>\n",
       "      <td>4170.63</td>\n",
       "      <td>0.050589</td>\n",
       "    </tr>\n",
       "  </tbody>\n",
       "</table>\n",
       "</div>"
      ],
      "text/plain": [
       "                  volume   coin_supply  vol_norm    Price  BTC_returns\n",
       "timestamp                                                             \n",
       "2019-02-19  22312.446914  1.754500e+07  0.001272  3912.11          NaN\n",
       "2019-02-20  34469.665463  1.754685e+07  0.001964  3968.05     0.014299\n",
       "2019-02-21  31390.659592  1.754871e+07  0.001789  3953.03    -0.003785\n",
       "2019-02-22  21907.760497  1.755056e+07  0.001248  3969.80     0.004242\n",
       "2019-02-23  38232.879917  1.755241e+07  0.002178  4170.63     0.050589"
      ]
     },
     "execution_count": 44,
     "metadata": {},
     "output_type": "execute_result"
    }
   ],
   "source": [
    "BTC_usable.head()"
   ]
  },
  {
   "cell_type": "code",
   "execution_count": 51,
   "id": "89fdf0b4-a3df-4da7-892e-3a1fe68c5538",
   "metadata": {},
   "outputs": [
    {
     "data": {
      "image/png": "[encoded data removed]",
      "text/plain": [
       "<Figure size 432x288 with 1 Axes>"
      ]
     },
     "metadata": {
      "needs_background": "light"
     },
     "output_type": "display_data"
    }
   ],
   "source": [
    "(BTC_usable['BTC_returns'].rolling(21).std()/BTC_usable['vol_norm'].rolling(21).mean()).plot()\n",
    "plt.title(\"bitcoin realized volatility divided by volume percent\")\n",
    "plt.show()"
   ]
  },
  {
   "cell_type": "code",
   "execution_count": 53,
   "id": "b38f1036-7a0a-4535-8c52-8e8151de7f3f",
   "metadata": {},
   "outputs": [
    {
     "data": {
      "image/png": "[encoded data removed]",
      "text/plain": [
       "<Figure size 432x288 with 1 Axes>"
      ]
     },
     "metadata": {
      "needs_background": "light"
     },
     "output_type": "display_data"
    }
   ],
   "source": [
    "BTC_usable['vol_norm'].rolling(21).mean().plot()\n",
    "plt.title(\"bitcoin volume percent\")\n",
    "plt.show()"
   ]
  },
  {
   "cell_type": "code",
   "execution_count": null,
   "id": "b8990e37-2474-49e6-872f-41d6624a8103",
   "metadata": {},
   "outputs": [],
   "source": []
  },
  {
   "cell_type": "code",
   "execution_count": 52,
   "id": "49b2c91c-81bd-4acb-ace8-0b44c125b152",
   "metadata": {},
   "outputs": [
    {
     "data": {
      "image/png": "[encoded data removed]",
      "text/plain": [
       "<Figure size 432x288 with 1 Axes>"
      ]
     },
     "metadata": {
      "needs_background": "light"
     },
     "output_type": "display_data"
    }
   ],
   "source": [
    "(SPY.SPYreturn.rolling(21).std()/SPY['vol_norm'].rolling(21).mean()).plot()\n",
    "plt.title(\"SPY realized volatility divided by volume percent\")\n",
    "plt.show()"
   ]
  },
  {
   "cell_type": "code",
   "execution_count": 54,
   "id": "88b00907-25ff-460b-8ce7-2244ed5d2bc9",
   "metadata": {},
   "outputs": [
    {
     "data": {
      "image/png": "[encoded data removed]",
      "text/plain": [
       "<Figure size 432x288 with 1 Axes>"
      ]
     },
     "metadata": {
      "needs_background": "light"
     },
     "output_type": "display_data"
    }
   ],
   "source": [
    "SPY['vol_norm'].rolling(21).mean().plot()\n",
    "plt.title(\"SPY volume percent\")\n",
    "plt.show()"
   ]
  },
  {
   "cell_type": "code",
   "execution_count": null,
   "id": "204ca92b-b2f0-4dfb-b45e-e26c1e68b0e1",
   "metadata": {},
   "outputs": [],
   "source": []
  }
 ],
 "metadata": {
  "kernelspec": {
   "display_name": "tfenv",
   "language": "python",
   "name": "tfenv"
  },
  "language_info": {
   "codemirror_mode": {
    "name": "ipython",
    "version": 3
   },
   "file_extension": ".py",
   "mimetype": "text/x-python",
   "name": "python",
   "nbconvert_exporter": "python",
   "pygments_lexer": "ipython3",
   "version": "3.8.10"
  }
 },
 "nbformat": 4,
 "nbformat_minor": 5
}
