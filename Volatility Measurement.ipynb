{
 "cells": [
  {
   "cell_type": "code",
   "execution_count": 1,
   "id": "827d1188",
   "metadata": {},
   "outputs": [],
   "source": [
    "import ccxt\n",
    "import numpy as np\n",
    "import pandas as pd\n",
    "import matplotlib.pyplot as plt\n",
    "import time\n",
    "import math\n",
    "from datetime import datetime\n",
    "from sklearn.linear_model import LinearRegression\n",
    "bnc = ccxt.binance()"
   ]
  },
  {
   "cell_type": "code",
   "execution_count": 132,
   "id": "7c4ef3b9",
   "metadata": {},
   "outputs": [],
   "source": [
    "def load_crypto_batch(since,timeframe,symbols):\n",
    "    bnc = ccxt.binance()\n",
    "    dataframes = []\n",
    "    labels = []\n",
    "    for coin in symbols:\n",
    "        pair = \"\".join([coin,\"/USDT\"])\n",
    "        try:\n",
    "            dataframes.append(pd.DataFrame(bnc.fetch_ohlcv(pair,limit=1000,since=since,timeframe=timeframe),columns=[\"timestamp\",\"open\",\"high\",\"low\",\"close\",\"volume\"]).set_index(\"timestamp\"))\n",
    "            labels.append(str(coin))\n",
    "        except:\n",
    "            print(\"Binance does not have\", coin)\n",
    "    coinFrames = pd.DataFrame(dataframes[0][[\"close\",\"volume\"]]).rename(columns={'close':\"\".join(['BTC_',\"CLOSE\"]),'volume':\"\".join(['BTC_',\"VOL\"])})\n",
    "    for i,coin in enumerate(labels[1:]):\n",
    "        temp_frame = pd.DataFrame(dataframes[i+1][\"close\",\"volume\"]).rename(columns={'close':\"\".join(coin,\"CLOSE\"),'volume':\"\".join(coin,\"VOL\")})\n",
    "        coinFrames = coinFrames.merge(temp_opens,how='outer',on='timestamp')\n",
    "    return (coinFrames)\n",
    "\n",
    "def load_crypto(days=1000,n=30,timeframe='1h'):\n",
    "    bnc = ccxt.binance()\n",
    "    #symbols = ['BTC','ETH','BNB','SOL','ADA','XRP','DOT','DOGE','SHIB','LUNA','AVAX','UNI','LINK','LTC','MATIC','ALGO','BCH','VET','AXS','XLM','ATOM','ICP','FIL','THETA','TRX']\n",
    "    symbols = ['BTC']\n",
    "    n = min(len(symbols),n)\n",
    "    symbols = symbols[:n]\n",
    "    since = bnc.milliseconds () - 86400000*days  # -1*days day from now\n",
    "    all_orders = []\n",
    "    while since <= (bnc.milliseconds()-2000*60*60*24):\n",
    "        limit = 1000  # change for your limit\n",
    "        orders = load_crypto_batch(since,timeframe,symbols)\n",
    "        since = int(orders.index[-1])\n",
    "        all_orders.append(orders)\n",
    "        print(bnc.milliseconds()/1000,pd.to_datetime(since,unit='ms'))\n",
    "    combined = pd.concat(all_orders)\n",
    "    return combined\n",
    "    \n",
    "#gets a dataframe of prices, returns a dataframe of returns\n",
    "def get_returns(prices: object) -> object:\n",
    "    price_arr = np.asarray(prices)\n",
    "    time_arr = np.asarray(prices.index)\n",
    "    columns = np.asarray(prices.columns)\n",
    "    returns = np.zeros([len(time_arr)-1,len(columns)])\n",
    "    for i,val in enumerate(time_arr[1:]):\n",
    "        returns[i] = price_arr[i+1,:]/price_arr[i,:]\n",
    "    returns_df = pd.DataFrame(returns,index=time_arr[1:], columns=columns)\n",
    "    return pd.DataFrame(returns_df)\n",
    "\n",
    "#gets a dataframe of prices, returns a dataframe of the log returns\n",
    "def get_log_returns(prices: object) -> object:\n",
    "    price_arr = np.asarray(prices)\n",
    "    time_arr = np.asarray(prices.index)\n",
    "    columns = np.asarray(prices.columns)\n",
    "    log_returns = np.zeros([len(time_arr)-1,len(columns)])\n",
    "    for i,val in enumerate(time_arr[1:]):\n",
    "        log_returns[i] = np.log(price_arr[i+1,:]/price_arr[i,:])\n",
    "    log_returns_df = pd.DataFrame(log_returns,index=time_arr[1:], columns=columns)\n",
    "    return pd.DataFrame(log_returns_df)\n",
    "\n",
    "def proc_ccxt_timestamps(df: object) -> object:\n",
    "    df.index = pd.to_datetime(df.index,unit='ms')\n",
    "    return df\n"
   ]
  },
  {
   "cell_type": "code",
   "execution_count": 3,
   "id": "f19d85be",
   "metadata": {},
   "outputs": [],
   "source": [
    "#loads and writes the data to csv\n",
    "#opens=load_crypto(days=1500,timeframe='1d')\n",
    "#opens.to_csv('BitcoinData')"
   ]
  },
  {
   "cell_type": "code",
   "execution_count": 130,
   "id": "bc0b5749",
   "metadata": {},
   "outputs": [],
   "source": [
    "#loads bitcoin price and volume data and creates appropriate vectors\n",
    "df = pd.read_csv('BTC_data').set_index(\"timestamp\")\n",
    "df = proc_ccxt_timestamps(df.dropna(axis=0))\n",
    "\n",
    "#loads number of bitcoins and processes timestamps\n",
    "numcoins = pd.read_csv('BTC_numcoins.csv').set_index(\"Timestamp\")\n",
    "numcoins.index = numcoins.index.rename('timestamp')\n",
    "numcoins.index = pd.to_datetime(numcoins.index)\n",
    "numcoins.index = numcoins.index.round('D')\n",
    "\n",
    "#merges with price data\n",
    "df = df.merge(numcoins,how='left',on='timestamp')\n",
    "df = df.fillna(method='bfill')\n",
    "df['pct_cap'] = df.BTC_VOL/df[\"total-bitcoins\"]\n",
    "\n",
    "#loads SP500 data\n",
    "sp = pd.read_csv('SP500_data.csv').set_index(\"Date\")\n",
    "sp.index = sp.index.rename('timestamp')\n",
    "sp.index = pd.to_datetime(sp.index)\n",
    "sp.index = sp.index.round('D')\n",
    "\n",
    "#merge on btc table\n",
    "sp = df.merge(sp,how='left',on='timestamp')\n",
    "sp.Volume = sp.Volume.fillna(0) #fills empty volumes with 0, not bfill\n",
    "sp = sp.fillna(method='bfill')\n",
    "sp = sp.fillna(method='ffill')\n",
    "sp.Close = pd.to_numeric(sp.Close)\n",
    "sp.Volume = pd.to_numeric(sp.Volume)\n",
    "sp[\"Market_Cap\"] = sp.Close*8.6e9\n",
    "sp[\"pct\"] = sp.Volume/sp.Market_Cap"
   ]
  },
  {
   "cell_type": "code",
   "execution_count": 248,
   "id": "04f1e671",
   "metadata": {},
   "outputs": [
    {
     "name": "stderr",
     "output_type": "stream",
     "text": [
      "<ipython-input-248-dd9d81eb89a5>:14: RuntimeWarning: divide by zero encountered in true_divide\n",
      "  sp_r_pct = np.nan_to_num((sp_returns-1)/sp_pct)\n",
      "<ipython-input-248-dd9d81eb89a5>:14: RuntimeWarning: invalid value encountered in true_divide\n",
      "  sp_r_pct = np.nan_to_num((sp_returns-1)/sp_pct)\n",
      "<ipython-input-248-dd9d81eb89a5>:15: RuntimeWarning: divide by zero encountered in true_divide\n",
      "  sp_lrsq_pct = np.nan_to_num(sp_lrsq/sp_pct)\n",
      "<ipython-input-248-dd9d81eb89a5>:15: RuntimeWarning: invalid value encountered in true_divide\n",
      "  sp_lrsq_pct = np.nan_to_num(sp_lrsq/sp_pct)\n"
     ]
    }
   ],
   "source": [
    "btc_returns = get_returns(pd.DataFrame(df.BTC_CLOSE)).BTC_CLOSE.values\n",
    "btc_logr = get_log_returns(pd.DataFrame(df.BTC_CLOSE)).BTC_CLOSE.values\n",
    "btc_lrsq = ((btc_logr)**2)\n",
    "btc_vol = df.BTC_VOL.iloc[1:].values\n",
    "btc_pct = df.pct_cap[1:].values\n",
    "btc_r_pct = np.nan_to_num((btc_returns-1)/btc_pct)\n",
    "btc_lrsq_pct = np.nan_to_num(btc_lrsq/btc_pct)\n",
    "\n",
    "sp_returns = get_returns(pd.DataFrame(sp.Close)).Close.values\n",
    "sp_logr = get_log_returns(pd.DataFrame(sp.Close)).Close.values\n",
    "sp_lrsq = ((sp_logr)**2)\n",
    "sp_vol = sp.Volume.iloc[1:].values\n",
    "sp_pct = sp.pct[1:].values\n",
    "sp_r_pct = np.nan_to_num((sp_returns-1)/sp_pct)\n",
    "sp_lrsq_pct = np.nan_to_num(sp_lrsq/sp_pct)"
   ]
  },
  {
   "cell_type": "code",
   "execution_count": 253,
   "id": "16b728f7",
   "metadata": {
    "scrolled": false
   },
   "outputs": [
    {
     "name": "stderr",
     "output_type": "stream",
     "text": [
      "<ipython-input-253-6b86b29f1046>:2: RuntimeWarning: divide by zero encountered in true_divide\n",
      "  plt.plot(sp.index[1:],sp_lrsq/sp_pct,alpha=.5)\n",
      "<ipython-input-253-6b86b29f1046>:2: RuntimeWarning: invalid value encountered in true_divide\n",
      "  plt.plot(sp.index[1:],sp_lrsq/sp_pct,alpha=.5)\n"
     ]
    },
    {
     "data": {
      "text/plain": [
       "(0.0, 25.0)"
      ]
     },
     "execution_count": 253,
     "metadata": {},
     "output_type": "execute_result"
    },
    {
     "data": {
      "image/png": "[encoded data removed]",
      "text/plain": [
       "<Figure size 800x240 with 1 Axes>"
      ]
     },
     "metadata": {
      "needs_background": "light"
     },
     "output_type": "display_data"
    }
   ],
   "source": [
    "figure(figsize=(10, 3), dpi=80)\n",
    "plt.plot(sp.index[1:],sp_lrsq/sp_pct,alpha=.5)\n",
    "plt.plot(sp.index[1:],btc_lrsq/btc_pct,alpha=.5)\n",
    "plt.ylim((0,25))"
   ]
  },
  {
   "cell_type": "code",
   "execution_count": 251,
   "id": "a8b27902",
   "metadata": {
    "scrolled": true
   },
   "outputs": [
    {
     "name": "stdout",
     "output_type": "stream",
     "text": [
      "1\n"
     ]
    },
    {
     "data": {
      "image/png": "[encoded data removed]",
      "text/plain": [
       "<Figure size 432x288 with 1 Axes>"
      ]
     },
     "metadata": {
      "needs_background": "light"
     },
     "output_type": "display_data"
    }
   ],
   "source": [
    "plt.hist(btc_r_pct,bins=100,alpha=.5)\n",
    "#plt.hist(sp_r_pct,bins=100,alpha=.5)\n",
    "print(\"1\")"
   ]
  },
  {
   "cell_type": "code",
   "execution_count": 252,
   "id": "7886aeae",
   "metadata": {},
   "outputs": [
    {
     "ename": "IndexError",
     "evalue": "index -9223372036854775808 is out of bounds for axis 0 with size 101",
     "output_type": "error",
     "traceback": [
      "\u001b[0;31m---------------------------------------------------------------------------\u001b[0m",
      "\u001b[0;31mIndexError\u001b[0m                                Traceback (most recent call last)",
      "\u001b[0;32m<ipython-input-252-15679a21812b>\u001b[0m in \u001b[0;36m<module>\u001b[0;34m\u001b[0m\n\u001b[0;32m----> 1\u001b[0;31m \u001b[0mplt\u001b[0m\u001b[0;34m.\u001b[0m\u001b[0mhist\u001b[0m\u001b[0;34m(\u001b[0m\u001b[0msp_r_pct\u001b[0m\u001b[0;34m,\u001b[0m\u001b[0mbins\u001b[0m\u001b[0;34m=\u001b[0m\u001b[0;36m100\u001b[0m\u001b[0;34m,\u001b[0m\u001b[0malpha\u001b[0m\u001b[0;34m=\u001b[0m\u001b[0;36m.5\u001b[0m\u001b[0;34m)\u001b[0m\u001b[0;34m\u001b[0m\u001b[0;34m\u001b[0m\u001b[0m\n\u001b[0m",
      "\u001b[0;32m~/opt/anaconda3/lib/python3.8/site-packages/matplotlib/pyplot.py\u001b[0m in \u001b[0;36mhist\u001b[0;34m(x, bins, range, density, weights, cumulative, bottom, histtype, align, orientation, rwidth, log, color, label, stacked, data, **kwargs)\u001b[0m\n\u001b[1;32m   2683\u001b[0m         \u001b[0morientation\u001b[0m\u001b[0;34m=\u001b[0m\u001b[0;34m'vertical'\u001b[0m\u001b[0;34m,\u001b[0m \u001b[0mrwidth\u001b[0m\u001b[0;34m=\u001b[0m\u001b[0;32mNone\u001b[0m\u001b[0;34m,\u001b[0m \u001b[0mlog\u001b[0m\u001b[0;34m=\u001b[0m\u001b[0;32mFalse\u001b[0m\u001b[0;34m,\u001b[0m \u001b[0mcolor\u001b[0m\u001b[0;34m=\u001b[0m\u001b[0;32mNone\u001b[0m\u001b[0;34m,\u001b[0m\u001b[0;34m\u001b[0m\u001b[0;34m\u001b[0m\u001b[0m\n\u001b[1;32m   2684\u001b[0m         label=None, stacked=False, *, data=None, **kwargs):\n\u001b[0;32m-> 2685\u001b[0;31m     return gca().hist(\n\u001b[0m\u001b[1;32m   2686\u001b[0m         \u001b[0mx\u001b[0m\u001b[0;34m,\u001b[0m \u001b[0mbins\u001b[0m\u001b[0;34m=\u001b[0m\u001b[0mbins\u001b[0m\u001b[0;34m,\u001b[0m \u001b[0mrange\u001b[0m\u001b[0;34m=\u001b[0m\u001b[0mrange\u001b[0m\u001b[0;34m,\u001b[0m \u001b[0mdensity\u001b[0m\u001b[0;34m=\u001b[0m\u001b[0mdensity\u001b[0m\u001b[0;34m,\u001b[0m \u001b[0mweights\u001b[0m\u001b[0;34m=\u001b[0m\u001b[0mweights\u001b[0m\u001b[0;34m,\u001b[0m\u001b[0;34m\u001b[0m\u001b[0;34m\u001b[0m\u001b[0m\n\u001b[1;32m   2687\u001b[0m         \u001b[0mcumulative\u001b[0m\u001b[0;34m=\u001b[0m\u001b[0mcumulative\u001b[0m\u001b[0;34m,\u001b[0m \u001b[0mbottom\u001b[0m\u001b[0;34m=\u001b[0m\u001b[0mbottom\u001b[0m\u001b[0;34m,\u001b[0m \u001b[0mhisttype\u001b[0m\u001b[0;34m=\u001b[0m\u001b[0mhisttype\u001b[0m\u001b[0;34m,\u001b[0m\u001b[0;34m\u001b[0m\u001b[0;34m\u001b[0m\u001b[0m\n",
      "\u001b[0;32m~/opt/anaconda3/lib/python3.8/site-packages/matplotlib/__init__.py\u001b[0m in \u001b[0;36minner\u001b[0;34m(ax, data, *args, **kwargs)\u001b[0m\n\u001b[1;32m   1445\u001b[0m     \u001b[0;32mdef\u001b[0m \u001b[0minner\u001b[0m\u001b[0;34m(\u001b[0m\u001b[0max\u001b[0m\u001b[0;34m,\u001b[0m \u001b[0;34m*\u001b[0m\u001b[0margs\u001b[0m\u001b[0;34m,\u001b[0m \u001b[0mdata\u001b[0m\u001b[0;34m=\u001b[0m\u001b[0;32mNone\u001b[0m\u001b[0;34m,\u001b[0m \u001b[0;34m**\u001b[0m\u001b[0mkwargs\u001b[0m\u001b[0;34m)\u001b[0m\u001b[0;34m:\u001b[0m\u001b[0;34m\u001b[0m\u001b[0;34m\u001b[0m\u001b[0m\n\u001b[1;32m   1446\u001b[0m         \u001b[0;32mif\u001b[0m \u001b[0mdata\u001b[0m \u001b[0;32mis\u001b[0m \u001b[0;32mNone\u001b[0m\u001b[0;34m:\u001b[0m\u001b[0;34m\u001b[0m\u001b[0;34m\u001b[0m\u001b[0m\n\u001b[0;32m-> 1447\u001b[0;31m             \u001b[0;32mreturn\u001b[0m \u001b[0mfunc\u001b[0m\u001b[0;34m(\u001b[0m\u001b[0max\u001b[0m\u001b[0;34m,\u001b[0m \u001b[0;34m*\u001b[0m\u001b[0mmap\u001b[0m\u001b[0;34m(\u001b[0m\u001b[0msanitize_sequence\u001b[0m\u001b[0;34m,\u001b[0m \u001b[0margs\u001b[0m\u001b[0;34m)\u001b[0m\u001b[0;34m,\u001b[0m \u001b[0;34m**\u001b[0m\u001b[0mkwargs\u001b[0m\u001b[0;34m)\u001b[0m\u001b[0;34m\u001b[0m\u001b[0;34m\u001b[0m\u001b[0m\n\u001b[0m\u001b[1;32m   1448\u001b[0m \u001b[0;34m\u001b[0m\u001b[0m\n\u001b[1;32m   1449\u001b[0m         \u001b[0mbound\u001b[0m \u001b[0;34m=\u001b[0m \u001b[0mnew_sig\u001b[0m\u001b[0;34m.\u001b[0m\u001b[0mbind\u001b[0m\u001b[0;34m(\u001b[0m\u001b[0max\u001b[0m\u001b[0;34m,\u001b[0m \u001b[0;34m*\u001b[0m\u001b[0margs\u001b[0m\u001b[0;34m,\u001b[0m \u001b[0;34m**\u001b[0m\u001b[0mkwargs\u001b[0m\u001b[0;34m)\u001b[0m\u001b[0;34m\u001b[0m\u001b[0;34m\u001b[0m\u001b[0m\n",
      "\u001b[0;32m~/opt/anaconda3/lib/python3.8/site-packages/matplotlib/axes/_axes.py\u001b[0m in \u001b[0;36mhist\u001b[0;34m(self, x, bins, range, density, weights, cumulative, bottom, histtype, align, orientation, rwidth, log, color, label, stacked, **kwargs)\u001b[0m\n\u001b[1;32m   6649\u001b[0m             \u001b[0;31m# this will automatically overwrite bins,\u001b[0m\u001b[0;34m\u001b[0m\u001b[0;34m\u001b[0m\u001b[0;34m\u001b[0m\u001b[0m\n\u001b[1;32m   6650\u001b[0m             \u001b[0;31m# so that each histogram uses the same bins\u001b[0m\u001b[0;34m\u001b[0m\u001b[0;34m\u001b[0m\u001b[0;34m\u001b[0m\u001b[0m\n\u001b[0;32m-> 6651\u001b[0;31m             \u001b[0mm\u001b[0m\u001b[0;34m,\u001b[0m \u001b[0mbins\u001b[0m \u001b[0;34m=\u001b[0m \u001b[0mnp\u001b[0m\u001b[0;34m.\u001b[0m\u001b[0mhistogram\u001b[0m\u001b[0;34m(\u001b[0m\u001b[0mx\u001b[0m\u001b[0;34m[\u001b[0m\u001b[0mi\u001b[0m\u001b[0;34m]\u001b[0m\u001b[0;34m,\u001b[0m \u001b[0mbins\u001b[0m\u001b[0;34m,\u001b[0m \u001b[0mweights\u001b[0m\u001b[0;34m=\u001b[0m\u001b[0mw\u001b[0m\u001b[0;34m[\u001b[0m\u001b[0mi\u001b[0m\u001b[0;34m]\u001b[0m\u001b[0;34m,\u001b[0m \u001b[0;34m**\u001b[0m\u001b[0mhist_kwargs\u001b[0m\u001b[0;34m)\u001b[0m\u001b[0;34m\u001b[0m\u001b[0;34m\u001b[0m\u001b[0m\n\u001b[0m\u001b[1;32m   6652\u001b[0m             \u001b[0mtops\u001b[0m\u001b[0;34m.\u001b[0m\u001b[0mappend\u001b[0m\u001b[0;34m(\u001b[0m\u001b[0mm\u001b[0m\u001b[0;34m)\u001b[0m\u001b[0;34m\u001b[0m\u001b[0;34m\u001b[0m\u001b[0m\n\u001b[1;32m   6653\u001b[0m         \u001b[0mtops\u001b[0m \u001b[0;34m=\u001b[0m \u001b[0mnp\u001b[0m\u001b[0;34m.\u001b[0m\u001b[0marray\u001b[0m\u001b[0;34m(\u001b[0m\u001b[0mtops\u001b[0m\u001b[0;34m,\u001b[0m \u001b[0mfloat\u001b[0m\u001b[0;34m)\u001b[0m  \u001b[0;31m# causes problems later if it's an int\u001b[0m\u001b[0;34m\u001b[0m\u001b[0;34m\u001b[0m\u001b[0m\n",
      "\u001b[0;32m<__array_function__ internals>\u001b[0m in \u001b[0;36mhistogram\u001b[0;34m(*args, **kwargs)\u001b[0m\n",
      "\u001b[0;32m~/opt/anaconda3/lib/python3.8/site-packages/numpy/lib/histograms.py\u001b[0m in \u001b[0;36mhistogram\u001b[0;34m(a, bins, range, normed, weights, density)\u001b[0m\n\u001b[1;32m    854\u001b[0m             \u001b[0;31m# The index computation is not guaranteed to give exactly\u001b[0m\u001b[0;34m\u001b[0m\u001b[0;34m\u001b[0m\u001b[0;34m\u001b[0m\u001b[0m\n\u001b[1;32m    855\u001b[0m             \u001b[0;31m# consistent results within ~1 ULP of the bin edges.\u001b[0m\u001b[0;34m\u001b[0m\u001b[0;34m\u001b[0m\u001b[0;34m\u001b[0m\u001b[0m\n\u001b[0;32m--> 856\u001b[0;31m             \u001b[0mdecrement\u001b[0m \u001b[0;34m=\u001b[0m \u001b[0mtmp_a\u001b[0m \u001b[0;34m<\u001b[0m \u001b[0mbin_edges\u001b[0m\u001b[0;34m[\u001b[0m\u001b[0mindices\u001b[0m\u001b[0;34m]\u001b[0m\u001b[0;34m\u001b[0m\u001b[0;34m\u001b[0m\u001b[0m\n\u001b[0m\u001b[1;32m    857\u001b[0m             \u001b[0mindices\u001b[0m\u001b[0;34m[\u001b[0m\u001b[0mdecrement\u001b[0m\u001b[0;34m]\u001b[0m \u001b[0;34m-=\u001b[0m \u001b[0;36m1\u001b[0m\u001b[0;34m\u001b[0m\u001b[0;34m\u001b[0m\u001b[0m\n\u001b[1;32m    858\u001b[0m             \u001b[0;31m# The last bin includes the right edge. The other bins do not.\u001b[0m\u001b[0;34m\u001b[0m\u001b[0;34m\u001b[0m\u001b[0;34m\u001b[0m\u001b[0m\n",
      "\u001b[0;31mIndexError\u001b[0m: index -9223372036854775808 is out of bounds for axis 0 with size 101"
     ]
    },
    {
     "data": {
      "image/png": "[encoded data removed]",
      "text/plain": [
       "<Figure size 432x288 with 1 Axes>"
      ]
     },
     "metadata": {
      "needs_background": "light"
     },
     "output_type": "display_data"
    }
   ],
   "source": [
    "plt.hist(sp_r_pct,bins=100,alpha=.5)"
   ]
  }
 ],
 "metadata": {
  "kernelspec": {
   "display_name": "Python 3",
   "language": "python",
   "name": "python3"
  },
  "language_info": {
   "codemirror_mode": {
    "name": "ipython",
    "version": 3
   },
   "file_extension": ".py",
   "mimetype": "text/x-python",
   "name": "python",
   "nbconvert_exporter": "python",
   "pygments_lexer": "ipython3",
   "version": "3.8.8"
  }
 },
 "nbformat": 4,
 "nbformat_minor": 5
}
